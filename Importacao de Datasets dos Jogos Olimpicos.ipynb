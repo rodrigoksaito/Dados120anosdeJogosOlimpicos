{
 "cells": [
  {
   "cell_type": "markdown",
   "metadata": {},
   "source": [
    "# Importacao de Datasets dos Jobos Olimpicos"
   ]
  },
  {
   "cell_type": "raw",
   "metadata": {},
   "source": [
    "Autor........: Rodrigo Kiyoshi Saito\n",
    "Data.........: 25/07/2021\n",
    "Descrição....: Importação dos datasets dos Jogos Olimpicos para uma base de dados relacional\n",
    "Versão.......: 1.0\n",
    "Comentários..: 1.0 - versão inicial\n",
    "\n",
    "Disponível em.: https://github.com/rodrigoksaito/Dados120anosdeJogosOlimpicos"
   ]
  },
  {
   "cell_type": "code",
   "execution_count": 1,
   "metadata": {},
   "outputs": [],
   "source": [
    "#Libs\n",
    "import psycopg2"
   ]
  },
  {
   "cell_type": "code",
   "execution_count": 2,
   "metadata": {},
   "outputs": [],
   "source": [
    "#Criacao de conexao com a base de dados\n",
    "conn =  psycopg2.connect(\n",
    "        host=\"postgres.local\",\n",
    "        database=\"olympicgames\",\n",
    "        user=\"postgres\",\n",
    "        password=\"postgres\")"
   ]
  },
  {
   "cell_type": "code",
   "execution_count": 3,
   "metadata": {},
   "outputs": [],
   "source": [
    "# Os arquivos devem estar em uma pasta no lado do servidor Postgresql\n",
    "fpath1 = \"'/home/rodrigosaito/Downloads/athlete_events.csv'\"\n",
    "fpath2 = \"'/home/rodrigosaito/Downloads/noc_regions.csv'\""
   ]
  },
  {
   "cell_type": "code",
   "execution_count": 4,
   "metadata": {},
   "outputs": [],
   "source": [
    "# Abertura do cursor para execução de comandos do Postgres\n",
    "cur = conn.cursor()"
   ]
  },
  {
   "cell_type": "code",
   "execution_count": 5,
   "metadata": {},
   "outputs": [],
   "source": [
    "# Criaçao de uma string para o comando COPY FROM do Postgres, \n",
    "# com parametros a serem passados das variaveis das tabelas do banco e o caminho dos arquivos csv\n",
    "sql_string = \"\"\"\n",
    "COPY {}\n",
    " FROM {}\n",
    " DELIMITER ',' \n",
    " CSV HEADER;\n",
    "\"\"\""
   ]
  },
  {
   "cell_type": "code",
   "execution_count": 6,
   "metadata": {},
   "outputs": [],
   "source": [
    "cur.execute(sql_string.format('olympics', fpath1))"
   ]
  },
  {
   "cell_type": "code",
   "execution_count": 7,
   "metadata": {},
   "outputs": [],
   "source": [
    "cur.execute(sql_string.format('noc_regions', fpath2))"
   ]
  },
  {
   "cell_type": "code",
   "execution_count": 8,
   "metadata": {},
   "outputs": [],
   "source": [
    "# Persistindo dados na base de dados\n",
    "conn.commit()"
   ]
  },
  {
   "cell_type": "code",
   "execution_count": 9,
   "metadata": {},
   "outputs": [],
   "source": [
    "# Fechamento do cursos e fechamento da comunicação com o banco de dados\n",
    "cur.close()\n",
    "conn.close()"
   ]
  },
  {
   "cell_type": "code",
   "execution_count": null,
   "metadata": {},
   "outputs": [],
   "source": []
  },
  {
   "cell_type": "code",
   "execution_count": null,
   "metadata": {},
   "outputs": [],
   "source": []
  },
  {
   "cell_type": "code",
   "execution_count": null,
   "metadata": {},
   "outputs": [],
   "source": []
  },
  {
   "cell_type": "code",
   "execution_count": null,
   "metadata": {},
   "outputs": [],
   "source": []
  }
 ],
 "metadata": {
  "kernelspec": {
   "display_name": "Python 3",
   "language": "python",
   "name": "python3"
  },
  "language_info": {
   "codemirror_mode": {
    "name": "ipython",
    "version": 3
   },
   "file_extension": ".py",
   "mimetype": "text/x-python",
   "name": "python",
   "nbconvert_exporter": "python",
   "pygments_lexer": "ipython3",
   "version": "3.8.5"
  }
 },
 "nbformat": 4,
 "nbformat_minor": 4
}
